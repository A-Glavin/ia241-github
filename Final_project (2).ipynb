{
 "cells": [
  {
   "cell_type": "markdown",
   "id": "cb895183",
   "metadata": {},
   "source": [
    "# Argentina Covid-19 Data"
   ]
  },
  {
   "cell_type": "markdown",
   "id": "d4c776b9",
   "metadata": {},
   "source": [
    "### Covid-19 Background"
   ]
  },
  {
   "cell_type": "markdown",
   "id": "ad597a91",
   "metadata": {},
   "source": [
    "#### Covid-19 is a pandemic that hit the world in 2020. This sickness has infected millions of people in the last few years and has even caused some to have lost their lives. This notebook will analyze the COVID-19 data in Argentina.\n"
   ]
  },
  {
   "cell_type": "markdown",
   "id": "d3f6f7b3",
   "metadata": {},
   "source": [
    "## Author Info"
   ]
  },
  {
   "cell_type": "markdown",
   "id": "b2eb752d",
   "metadata": {},
   "source": [
    "### Abbey Glavin is an Intelligence Analysis Student at James Madison University"
   ]
  },
  {
   "cell_type": "markdown",
   "id": "2ad7a2ac",
   "metadata": {},
   "source": [
    "The data is downloaded and collected from [European Centre for Diease Prevention and Control]('https://www.ecdc.europa.eu/en/publications-data/download-todays-data-geographic-distribution-covid-19-cases-worldwide')"
   ]
  },
  {
   "cell_type": "markdown",
   "id": "1624a33c",
   "metadata": {},
   "source": [
    "## Data Source"
   ]
  },
  {
   "cell_type": "code",
   "execution_count": 1,
   "id": "991c817b",
   "metadata": {},
   "outputs": [],
   "source": [
    "%matplotlib inline \n",
    "import pandas"
   ]
  },
  {
   "cell_type": "markdown",
   "id": "5c2feeb5",
   "metadata": {},
   "source": [
    "## Argentina Data"
   ]
  },
  {
   "cell_type": "code",
   "execution_count": 2,
   "id": "e77057ed",
   "metadata": {},
   "outputs": [
    {
     "data": {
      "text/html": [
       "<div>\n",
       "<style scoped>\n",
       "    .dataframe tbody tr th:only-of-type {\n",
       "        vertical-align: middle;\n",
       "    }\n",
       "\n",
       "    .dataframe tbody tr th {\n",
       "        vertical-align: top;\n",
       "    }\n",
       "\n",
       "    .dataframe thead th {\n",
       "        text-align: right;\n",
       "    }\n",
       "</style>\n",
       "<table border=\"1\" class=\"dataframe\">\n",
       "  <thead>\n",
       "    <tr style=\"text-align: right;\">\n",
       "      <th></th>\n",
       "      <th>dateRep</th>\n",
       "      <th>day</th>\n",
       "      <th>month</th>\n",
       "      <th>year</th>\n",
       "      <th>cases</th>\n",
       "      <th>deaths</th>\n",
       "      <th>countriesAndTerritories</th>\n",
       "      <th>geoId</th>\n",
       "      <th>countryterritoryCode</th>\n",
       "      <th>popData2019</th>\n",
       "      <th>continentExp</th>\n",
       "      <th>Cumulative_number_for_14_days_of_COVID-19_cases_per_100000</th>\n",
       "    </tr>\n",
       "  </thead>\n",
       "  <tbody>\n",
       "    <tr>\n",
       "      <th>2043</th>\n",
       "      <td>14/12/2020</td>\n",
       "      <td>14</td>\n",
       "      <td>12</td>\n",
       "      <td>2020</td>\n",
       "      <td>3558</td>\n",
       "      <td>98</td>\n",
       "      <td>Argentina</td>\n",
       "      <td>AR</td>\n",
       "      <td>ARG</td>\n",
       "      <td>44780675.0</td>\n",
       "      <td>America</td>\n",
       "      <td>177.232701</td>\n",
       "    </tr>\n",
       "    <tr>\n",
       "      <th>2044</th>\n",
       "      <td>13/12/2020</td>\n",
       "      <td>13</td>\n",
       "      <td>12</td>\n",
       "      <td>2020</td>\n",
       "      <td>5274</td>\n",
       "      <td>62</td>\n",
       "      <td>Argentina</td>\n",
       "      <td>AR</td>\n",
       "      <td>ARG</td>\n",
       "      <td>44780675.0</td>\n",
       "      <td>America</td>\n",
       "      <td>181.417542</td>\n",
       "    </tr>\n",
       "    <tr>\n",
       "      <th>2045</th>\n",
       "      <td>2020-12-12 00:00:00</td>\n",
       "      <td>12</td>\n",
       "      <td>12</td>\n",
       "      <td>2020</td>\n",
       "      <td>7112</td>\n",
       "      <td>175</td>\n",
       "      <td>Argentina</td>\n",
       "      <td>AR</td>\n",
       "      <td>ARG</td>\n",
       "      <td>44780675.0</td>\n",
       "      <td>America</td>\n",
       "      <td>183.257622</td>\n",
       "    </tr>\n",
       "    <tr>\n",
       "      <th>2046</th>\n",
       "      <td>2020-11-12 00:00:00</td>\n",
       "      <td>11</td>\n",
       "      <td>12</td>\n",
       "      <td>2020</td>\n",
       "      <td>6994</td>\n",
       "      <td>209</td>\n",
       "      <td>Argentina</td>\n",
       "      <td>AR</td>\n",
       "      <td>ARG</td>\n",
       "      <td>44780675.0</td>\n",
       "      <td>America</td>\n",
       "      <td>184.896722</td>\n",
       "    </tr>\n",
       "    <tr>\n",
       "      <th>2047</th>\n",
       "      <td>2020-10-12 00:00:00</td>\n",
       "      <td>10</td>\n",
       "      <td>12</td>\n",
       "      <td>2020</td>\n",
       "      <td>5303</td>\n",
       "      <td>213</td>\n",
       "      <td>Argentina</td>\n",
       "      <td>AR</td>\n",
       "      <td>ARG</td>\n",
       "      <td>44780675.0</td>\n",
       "      <td>America</td>\n",
       "      <td>189.472356</td>\n",
       "    </tr>\n",
       "    <tr>\n",
       "      <th>2048</th>\n",
       "      <td>2020-09-12 00:00:00</td>\n",
       "      <td>9</td>\n",
       "      <td>12</td>\n",
       "      <td>2020</td>\n",
       "      <td>3610</td>\n",
       "      <td>121</td>\n",
       "      <td>Argentina</td>\n",
       "      <td>AR</td>\n",
       "      <td>ARG</td>\n",
       "      <td>44780675.0</td>\n",
       "      <td>America</td>\n",
       "      <td>196.819275</td>\n",
       "    </tr>\n",
       "    <tr>\n",
       "      <th>2049</th>\n",
       "      <td>2020-08-12 00:00:00</td>\n",
       "      <td>8</td>\n",
       "      <td>12</td>\n",
       "      <td>2020</td>\n",
       "      <td>3216</td>\n",
       "      <td>118</td>\n",
       "      <td>Argentina</td>\n",
       "      <td>AR</td>\n",
       "      <td>ARG</td>\n",
       "      <td>44780675.0</td>\n",
       "      <td>America</td>\n",
       "      <td>205.358673</td>\n",
       "    </tr>\n",
       "    <tr>\n",
       "      <th>2050</th>\n",
       "      <td>2020-07-12 00:00:00</td>\n",
       "      <td>7</td>\n",
       "      <td>12</td>\n",
       "      <td>2020</td>\n",
       "      <td>3278</td>\n",
       "      <td>138</td>\n",
       "      <td>Argentina</td>\n",
       "      <td>AR</td>\n",
       "      <td>ARG</td>\n",
       "      <td>44780675.0</td>\n",
       "      <td>America</td>\n",
       "      <td>207.104962</td>\n",
       "    </tr>\n",
       "    <tr>\n",
       "      <th>2051</th>\n",
       "      <td>2020-06-12 00:00:00</td>\n",
       "      <td>6</td>\n",
       "      <td>12</td>\n",
       "      <td>2020</td>\n",
       "      <td>5201</td>\n",
       "      <td>120</td>\n",
       "      <td>Argentina</td>\n",
       "      <td>AR</td>\n",
       "      <td>ARG</td>\n",
       "      <td>44780675.0</td>\n",
       "      <td>America</td>\n",
       "      <td>209.121457</td>\n",
       "    </tr>\n",
       "    <tr>\n",
       "      <th>2052</th>\n",
       "      <td>2020-05-12 00:00:00</td>\n",
       "      <td>5</td>\n",
       "      <td>12</td>\n",
       "      <td>2020</td>\n",
       "      <td>6899</td>\n",
       "      <td>207</td>\n",
       "      <td>Argentina</td>\n",
       "      <td>AR</td>\n",
       "      <td>ARG</td>\n",
       "      <td>44780675.0</td>\n",
       "      <td>America</td>\n",
       "      <td>213.458149</td>\n",
       "    </tr>\n",
       "  </tbody>\n",
       "</table>\n",
       "</div>"
      ],
      "text/plain": [
       "                  dateRep  day  month  year  cases  deaths  \\\n",
       "2043           14/12/2020   14     12  2020   3558      98   \n",
       "2044           13/12/2020   13     12  2020   5274      62   \n",
       "2045  2020-12-12 00:00:00   12     12  2020   7112     175   \n",
       "2046  2020-11-12 00:00:00   11     12  2020   6994     209   \n",
       "2047  2020-10-12 00:00:00   10     12  2020   5303     213   \n",
       "2048  2020-09-12 00:00:00    9     12  2020   3610     121   \n",
       "2049  2020-08-12 00:00:00    8     12  2020   3216     118   \n",
       "2050  2020-07-12 00:00:00    7     12  2020   3278     138   \n",
       "2051  2020-06-12 00:00:00    6     12  2020   5201     120   \n",
       "2052  2020-05-12 00:00:00    5     12  2020   6899     207   \n",
       "\n",
       "     countriesAndTerritories geoId countryterritoryCode  popData2019  \\\n",
       "2043               Argentina    AR                  ARG   44780675.0   \n",
       "2044               Argentina    AR                  ARG   44780675.0   \n",
       "2045               Argentina    AR                  ARG   44780675.0   \n",
       "2046               Argentina    AR                  ARG   44780675.0   \n",
       "2047               Argentina    AR                  ARG   44780675.0   \n",
       "2048               Argentina    AR                  ARG   44780675.0   \n",
       "2049               Argentina    AR                  ARG   44780675.0   \n",
       "2050               Argentina    AR                  ARG   44780675.0   \n",
       "2051               Argentina    AR                  ARG   44780675.0   \n",
       "2052               Argentina    AR                  ARG   44780675.0   \n",
       "\n",
       "     continentExp  Cumulative_number_for_14_days_of_COVID-19_cases_per_100000  \n",
       "2043      America                                         177.232701           \n",
       "2044      America                                         181.417542           \n",
       "2045      America                                         183.257622           \n",
       "2046      America                                         184.896722           \n",
       "2047      America                                         189.472356           \n",
       "2048      America                                         196.819275           \n",
       "2049      America                                         205.358673           \n",
       "2050      America                                         207.104962           \n",
       "2051      America                                         209.121457           \n",
       "2052      America                                         213.458149           "
      ]
     },
     "execution_count": 2,
     "metadata": {},
     "output_type": "execute_result"
    }
   ],
   "source": [
    "df = pandas.read_excel('s3://ia241-spring2022-glavin/covid_data.xls')\n",
    "argentina_data = df.loc[df['countriesAndTerritories'] == 'Argentina']\n",
    "argentina_data[:10] #top 10 rows"
   ]
  },
  {
   "cell_type": "markdown",
   "id": "4f0ec0ab",
   "metadata": {},
   "source": [
    "This is an overview of the Covid-19 Data that has been collected from Argentina. This shows the top 10 rows of Argenina's statistics and has been imported from my S3 Bucket."
   ]
  },
  {
   "cell_type": "markdown",
   "id": "51a81901",
   "metadata": {},
   "source": [
    "## Questions this Project Will Answer"
   ]
  },
  {
   "cell_type": "markdown",
   "id": "2ade8b0c",
   "metadata": {},
   "source": [
    "1. Which month did Argentina have the most deaths in 2020?\n",
    "2. Which month did Argentina have the most cases in 2020?\n",
    "3. How the number of cases is related to the number of deaths in 2020."
   ]
  },
  {
   "cell_type": "markdown",
   "id": "246cea9a",
   "metadata": {},
   "source": [
    "# 1. "
   ]
  },
  {
   "cell_type": "code",
   "execution_count": 5,
   "id": "1bb2c8b9",
   "metadata": {},
   "outputs": [],
   "source": [
    "sum_deaths_per_month = argentina_data.groupby('month').sum()['deaths']"
   ]
  },
  {
   "cell_type": "code",
   "execution_count": 6,
   "id": "553e60b7",
   "metadata": {},
   "outputs": [
    {
     "data": {
      "text/plain": [
       "<AxesSubplot:xlabel='month'>"
      ]
     },
     "execution_count": 6,
     "metadata": {},
     "output_type": "execute_result"
    },
    {
     "data": {
      "image/png": "[encoded data removed]",
      "text/plain": [
       "<Figure size 432x288 with 1 Axes>"
      ]
     },
     "metadata": {
      "needs_background": "light"
     },
     "output_type": "display_data"
    }
   ],
   "source": [
    "sum_deaths_per_month.plot()"
   ]
  },
  {
   "cell_type": "markdown",
   "id": "0890cd61",
   "metadata": {},
   "source": [
    "This plot shows that there were the most Covid-190 deaths in October (month 10)."
   ]
  },
  {
   "cell_type": "markdown",
   "id": "3e83527b",
   "metadata": {},
   "source": [
    "# 2."
   ]
  },
  {
   "cell_type": "code",
   "execution_count": 7,
   "id": "0243c1f5",
   "metadata": {},
   "outputs": [],
   "source": [
    "sum_cases_per_month = argentina_data.groupby('month').sum()['cases']"
   ]
  },
  {
   "cell_type": "code",
   "execution_count": 8,
   "id": "7f543cf8",
   "metadata": {},
   "outputs": [
    {
     "data": {
      "text/plain": [
       "<AxesSubplot:xlabel='month'>"
      ]
     },
     "execution_count": 8,
     "metadata": {},
     "output_type": "execute_result"
    },
    {
     "data": {
      "image/png": "[encoded data removed]",
      "text/plain": [
       "<Figure size 432x288 with 1 Axes>"
      ]
     },
     "metadata": {
      "needs_background": "light"
     },
     "output_type": "display_data"
    }
   ],
   "source": [
    "sum_cases_per_month.plot()"
   ]
  },
  {
   "cell_type": "markdown",
   "id": "b7443fe9",
   "metadata": {},
   "source": [
    "This plot shows that there were the most Covid-19 cases reported in October (month 10)"
   ]
  },
  {
   "cell_type": "markdown",
   "id": "9dc39675",
   "metadata": {},
   "source": [
    "# 3."
   ]
  },
  {
   "cell_type": "code",
   "execution_count": 9,
   "id": "12f274cb",
   "metadata": {},
   "outputs": [
    {
     "data": {
      "text/plain": [
       "<AxesSubplot:xlabel='cases', ylabel='deaths'>"
      ]
     },
     "execution_count": 9,
     "metadata": {},
     "output_type": "execute_result"
    },
    {
     "data": {
      "image/png": "[encoded data removed]",
      "text/plain": [
       "<Figure size 432x288 with 2 Axes>"
      ]
     },
     "metadata": {
      "needs_background": "light"
     },
     "output_type": "display_data"
    }
   ],
   "source": [
    "argentina_data.plot.scatter(x = 'cases', y = 'deaths', c='month')"
   ]
  },
  {
   "cell_type": "markdown",
   "id": "ed1201bf",
   "metadata": {},
   "source": [
    "This graph shows that the relationship between the amount of Covid-19 cases and deaths in Argentina is linear. Which means as the number of covid cases goes up, so does the number of covid deaths. The graph also indicates on which day the cases and the deaths happened based on which color has been assigned. The key on the right explains which color stands for which day."
   ]
  },
  {
   "cell_type": "markdown",
   "id": "8f74561b",
   "metadata": {},
   "source": [
    "## Explanation of Calculations "
   ]
  },
  {
   "cell_type": "markdown",
   "id": "59d8c7f3",
   "metadata": {},
   "source": [
    "1. Which month did Argentina have the most deaths in 2020?\n",
    "\n",
    "    - The calculation that was used to determine this peice of data was sum_deaths_per_month = argentina_data.groupby('month').sum()['deaths']\n",
    "    - This pulled all the data from various months in order to see which day had the highest number of Covid-19 deaths.\n",
    "    - sum_deaths_per_month.plot() allowed me to visually plot the graph to see which month had the highest number of Covid deaths"
   ]
  },
  {
   "cell_type": "markdown",
   "id": "c65422c9",
   "metadata": {},
   "source": [
    "2. Which month did Argentina have the most Covid-19 cases in 2020?\n",
    "\n",
    "    - sum_cases_per_month = argentina_data.groupby('month').sum()['cases']\n",
    "    - This code pulled all of the cases that occured over various months in order to see which day had the highest number of Covid-19 cases in Argentina\n",
    "    - sum_cases_per_month.plot() was the code used to plot the data in order to be able to visually see which month had the most Covif-19 deaths in Argentina"
   ]
  },
  {
   "cell_type": "markdown",
   "id": "d81a54bd",
   "metadata": {},
   "source": [
    "3. How does the number of Covid-19 Cases in Argenina correlate with the Number of Deaths in 2020?\n",
    "    - argentina_data.plot.scatter(x = 'cases', y = 'deaths', c='month')\n",
    "    - This code collected all of the cases and the deaths (x and y values) in Argentina from Covid-19 in 2020.\n",
    "    - c='month' also provides a color differentiation, which allows viewers to see which month the deaths and cases occured on"
   ]
  },
  {
   "cell_type": "markdown",
   "id": "78685114",
   "metadata": {},
   "source": [
    "## Conclusion"
   ]
  },
  {
   "cell_type": "markdown",
   "id": "1ef4cd31",
   "metadata": {},
   "source": [
    "This project indentified and analyzed the number of Covid-19 cases and deaths in Argentina in the year 2020. This project was also able to identify the correlation between the amount of Covid cases and Covid deaths in Argentina. The more Covid cases there are, the more Covid deaths took place in Argentina. This project was limited to 2020 Covid-19 data in addition to only analyzing the days in which cases and deaths took place. For a future project, I would like to look at the amount of Covid-19 cases and deaths that took place in Argentina throughout the months instead of throughout the days."
   ]
  },
  {
   "cell_type": "code",
   "execution_count": null,
   "id": "1020244d",
   "metadata": {},
   "outputs": [],
   "source": []
  }
 ],
 "metadata": {
  "kernelspec": {
   "display_name": "conda_python3",
   "language": "python",
   "name": "conda_python3"
  },
  "language_info": {
   "codemirror_mode": {
    "name": "ipython",
    "version": 3
   },
   "file_extension": ".py",
   "mimetype": "text/x-python",
   "name": "python",
   "nbconvert_exporter": "python",
   "pygments_lexer": "ipython3",
   "version": "3.6.13"
  }
 },
 "nbformat": 4,
 "nbformat_minor": 5
}
