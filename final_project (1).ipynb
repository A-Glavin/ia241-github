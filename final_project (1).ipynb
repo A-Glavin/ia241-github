{
 "cells": [
  {
   "cell_type": "markdown",
   "id": "041aba07",
   "metadata": {},
   "source": [
    "# Argentina Covid-19 Data"
   ]
  },
  {
   "cell_type": "markdown",
   "id": "60437c18",
   "metadata": {},
   "source": [
    "### Covid-19 Background"
   ]
  },
  {
   "cell_type": "markdown",
   "id": "1a7d737a",
   "metadata": {},
   "source": [
    "#### Covid-19 is a pandemic that hit the world in 2020. This sickness has infected millions of people in the last few years and has even caused some to have lost their lives. This notebook will analyze the COVID-19 data in Argentina."
   ]
  },
  {
   "cell_type": "markdown",
   "id": "2e9497cc",
   "metadata": {},
   "source": [
    "## Author Info"
   ]
  },
  {
   "cell_type": "markdown",
   "id": "044bf3a9",
   "metadata": {},
   "source": [
    "### Abbey Glavin is an Intelligence Analysis Student at James Madison University"
   ]
  },
  {
   "cell_type": "markdown",
   "id": "703fa33a",
   "metadata": {},
   "source": [
    "## Data Source"
   ]
  },
  {
   "cell_type": "markdown",
   "id": "00107e00",
   "metadata": {},
   "source": [
    "The data is downloaded and collected from [European Centre for Diease Prevention and Control]('https://www.ecdc.europa.eu/en/publications-data/download-todays-data-geographic-distribution-covid-19-cases-worldwide')"
   ]
  },
  {
   "cell_type": "code",
   "execution_count": 1,
   "id": "0178e571",
   "metadata": {},
   "outputs": [],
   "source": [
    "%matplotlib inline \n",
    "import pandas"
   ]
  },
  {
   "cell_type": "markdown",
   "id": "bc4fdb6f",
   "metadata": {},
   "source": [
    "## Argentina Data"
   ]
  },
  {
   "cell_type": "code",
   "execution_count": 2,
   "id": "9a4f0ebd",
   "metadata": {},
   "outputs": [
    {
     "data": {
      "text/html": [
       "<div>\n",
       "<style scoped>\n",
       "    .dataframe tbody tr th:only-of-type {\n",
       "        vertical-align: middle;\n",
       "    }\n",
       "\n",
       "    .dataframe tbody tr th {\n",
       "        vertical-align: top;\n",
       "    }\n",
       "\n",
       "    .dataframe thead th {\n",
       "        text-align: right;\n",
       "    }\n",
       "</style>\n",
       "<table border=\"1\" class=\"dataframe\">\n",
       "  <thead>\n",
       "    <tr style=\"text-align: right;\">\n",
       "      <th></th>\n",
       "      <th>dateRep</th>\n",
       "      <th>day</th>\n",
       "      <th>month</th>\n",
       "      <th>year</th>\n",
       "      <th>cases</th>\n",
       "      <th>deaths</th>\n",
       "      <th>countriesAndTerritories</th>\n",
       "      <th>geoId</th>\n",
       "      <th>countryterritoryCode</th>\n",
       "      <th>popData2019</th>\n",
       "      <th>continentExp</th>\n",
       "      <th>Cumulative_number_for_14_days_of_COVID-19_cases_per_100000</th>\n",
       "    </tr>\n",
       "  </thead>\n",
       "  <tbody>\n",
       "    <tr>\n",
       "      <th>2043</th>\n",
       "      <td>14/12/2020</td>\n",
       "      <td>14</td>\n",
       "      <td>12</td>\n",
       "      <td>2020</td>\n",
       "      <td>3558</td>\n",
       "      <td>98</td>\n",
       "      <td>Argentina</td>\n",
       "      <td>AR</td>\n",
       "      <td>ARG</td>\n",
       "      <td>44780675.0</td>\n",
       "      <td>America</td>\n",
       "      <td>177.232701</td>\n",
       "    </tr>\n",
       "    <tr>\n",
       "      <th>2044</th>\n",
       "      <td>13/12/2020</td>\n",
       "      <td>13</td>\n",
       "      <td>12</td>\n",
       "      <td>2020</td>\n",
       "      <td>5274</td>\n",
       "      <td>62</td>\n",
       "      <td>Argentina</td>\n",
       "      <td>AR</td>\n",
       "      <td>ARG</td>\n",
       "      <td>44780675.0</td>\n",
       "      <td>America</td>\n",
       "      <td>181.417542</td>\n",
       "    </tr>\n",
       "    <tr>\n",
       "      <th>2045</th>\n",
       "      <td>2020-12-12 00:00:00</td>\n",
       "      <td>12</td>\n",
       "      <td>12</td>\n",
       "      <td>2020</td>\n",
       "      <td>7112</td>\n",
       "      <td>175</td>\n",
       "      <td>Argentina</td>\n",
       "      <td>AR</td>\n",
       "      <td>ARG</td>\n",
       "      <td>44780675.0</td>\n",
       "      <td>America</td>\n",
       "      <td>183.257622</td>\n",
       "    </tr>\n",
       "    <tr>\n",
       "      <th>2046</th>\n",
       "      <td>2020-11-12 00:00:00</td>\n",
       "      <td>11</td>\n",
       "      <td>12</td>\n",
       "      <td>2020</td>\n",
       "      <td>6994</td>\n",
       "      <td>209</td>\n",
       "      <td>Argentina</td>\n",
       "      <td>AR</td>\n",
       "      <td>ARG</td>\n",
       "      <td>44780675.0</td>\n",
       "      <td>America</td>\n",
       "      <td>184.896722</td>\n",
       "    </tr>\n",
       "    <tr>\n",
       "      <th>2047</th>\n",
       "      <td>2020-10-12 00:00:00</td>\n",
       "      <td>10</td>\n",
       "      <td>12</td>\n",
       "      <td>2020</td>\n",
       "      <td>5303</td>\n",
       "      <td>213</td>\n",
       "      <td>Argentina</td>\n",
       "      <td>AR</td>\n",
       "      <td>ARG</td>\n",
       "      <td>44780675.0</td>\n",
       "      <td>America</td>\n",
       "      <td>189.472356</td>\n",
       "    </tr>\n",
       "    <tr>\n",
       "      <th>2048</th>\n",
       "      <td>2020-09-12 00:00:00</td>\n",
       "      <td>9</td>\n",
       "      <td>12</td>\n",
       "      <td>2020</td>\n",
       "      <td>3610</td>\n",
       "      <td>121</td>\n",
       "      <td>Argentina</td>\n",
       "      <td>AR</td>\n",
       "      <td>ARG</td>\n",
       "      <td>44780675.0</td>\n",
       "      <td>America</td>\n",
       "      <td>196.819275</td>\n",
       "    </tr>\n",
       "    <tr>\n",
       "      <th>2049</th>\n",
       "      <td>2020-08-12 00:00:00</td>\n",
       "      <td>8</td>\n",
       "      <td>12</td>\n",
       "      <td>2020</td>\n",
       "      <td>3216</td>\n",
       "      <td>118</td>\n",
       "      <td>Argentina</td>\n",
       "      <td>AR</td>\n",
       "      <td>ARG</td>\n",
       "      <td>44780675.0</td>\n",
       "      <td>America</td>\n",
       "      <td>205.358673</td>\n",
       "    </tr>\n",
       "    <tr>\n",
       "      <th>2050</th>\n",
       "      <td>2020-07-12 00:00:00</td>\n",
       "      <td>7</td>\n",
       "      <td>12</td>\n",
       "      <td>2020</td>\n",
       "      <td>3278</td>\n",
       "      <td>138</td>\n",
       "      <td>Argentina</td>\n",
       "      <td>AR</td>\n",
       "      <td>ARG</td>\n",
       "      <td>44780675.0</td>\n",
       "      <td>America</td>\n",
       "      <td>207.104962</td>\n",
       "    </tr>\n",
       "    <tr>\n",
       "      <th>2051</th>\n",
       "      <td>2020-06-12 00:00:00</td>\n",
       "      <td>6</td>\n",
       "      <td>12</td>\n",
       "      <td>2020</td>\n",
       "      <td>5201</td>\n",
       "      <td>120</td>\n",
       "      <td>Argentina</td>\n",
       "      <td>AR</td>\n",
       "      <td>ARG</td>\n",
       "      <td>44780675.0</td>\n",
       "      <td>America</td>\n",
       "      <td>209.121457</td>\n",
       "    </tr>\n",
       "    <tr>\n",
       "      <th>2052</th>\n",
       "      <td>2020-05-12 00:00:00</td>\n",
       "      <td>5</td>\n",
       "      <td>12</td>\n",
       "      <td>2020</td>\n",
       "      <td>6899</td>\n",
       "      <td>207</td>\n",
       "      <td>Argentina</td>\n",
       "      <td>AR</td>\n",
       "      <td>ARG</td>\n",
       "      <td>44780675.0</td>\n",
       "      <td>America</td>\n",
       "      <td>213.458149</td>\n",
       "    </tr>\n",
       "  </tbody>\n",
       "</table>\n",
       "</div>"
      ],
      "text/plain": [
       "                  dateRep  day  month  year  cases  deaths  \\\n",
       "2043           14/12/2020   14     12  2020   3558      98   \n",
       "2044           13/12/2020   13     12  2020   5274      62   \n",
       "2045  2020-12-12 00:00:00   12     12  2020   7112     175   \n",
       "2046  2020-11-12 00:00:00   11     12  2020   6994     209   \n",
       "2047  2020-10-12 00:00:00   10     12  2020   5303     213   \n",
       "2048  2020-09-12 00:00:00    9     12  2020   3610     121   \n",
       "2049  2020-08-12 00:00:00    8     12  2020   3216     118   \n",
       "2050  2020-07-12 00:00:00    7     12  2020   3278     138   \n",
       "2051  2020-06-12 00:00:00    6     12  2020   5201     120   \n",
       "2052  2020-05-12 00:00:00    5     12  2020   6899     207   \n",
       "\n",
       "     countriesAndTerritories geoId countryterritoryCode  popData2019  \\\n",
       "2043               Argentina    AR                  ARG   44780675.0   \n",
       "2044               Argentina    AR                  ARG   44780675.0   \n",
       "2045               Argentina    AR                  ARG   44780675.0   \n",
       "2046               Argentina    AR                  ARG   44780675.0   \n",
       "2047               Argentina    AR                  ARG   44780675.0   \n",
       "2048               Argentina    AR                  ARG   44780675.0   \n",
       "2049               Argentina    AR                  ARG   44780675.0   \n",
       "2050               Argentina    AR                  ARG   44780675.0   \n",
       "2051               Argentina    AR                  ARG   44780675.0   \n",
       "2052               Argentina    AR                  ARG   44780675.0   \n",
       "\n",
       "     continentExp  Cumulative_number_for_14_days_of_COVID-19_cases_per_100000  \n",
       "2043      America                                         177.232701           \n",
       "2044      America                                         181.417542           \n",
       "2045      America                                         183.257622           \n",
       "2046      America                                         184.896722           \n",
       "2047      America                                         189.472356           \n",
       "2048      America                                         196.819275           \n",
       "2049      America                                         205.358673           \n",
       "2050      America                                         207.104962           \n",
       "2051      America                                         209.121457           \n",
       "2052      America                                         213.458149           "
      ]
     },
     "execution_count": 2,
     "metadata": {},
     "output_type": "execute_result"
    }
   ],
   "source": [
    "df = pandas.read_excel('s3://ia241-spring2022-glavin/covid_data.xls')\n",
    "argentina_data = df.loc[df['countriesAndTerritories'] == 'Argentina']\n",
    "argentina_data[:10] #top 10 rows"
   ]
  },
  {
   "cell_type": "markdown",
   "id": "a8e5aa8e",
   "metadata": {},
   "source": [
    "This is an overview of the Covid-19 Data that has been collected from Argentina. This shows the top 10 rows of Argenina's statistics and has been imported from my S3 Bucket."
   ]
  },
  {
   "cell_type": "markdown",
   "id": "3b99e421",
   "metadata": {},
   "source": [
    "### Questions This Project Will Answer:"
   ]
  },
  {
   "cell_type": "markdown",
   "id": "ec7ad2de",
   "metadata": {},
   "source": [
    "1. Which day did Argentina have the most deaths in 2020?\n",
    "2. Which day did Argentina have the most cases in 2020?\n",
    "3. How the number of cases is related to the number of deaths in 2020.\n",
    "\n"
   ]
  },
  {
   "cell_type": "markdown",
   "id": "c95b81e2",
   "metadata": {},
   "source": [
    "## 1. "
   ]
  },
  {
   "cell_type": "code",
   "execution_count": 10,
   "id": "5885fdec",
   "metadata": {},
   "outputs": [],
   "source": [
    "sum_deaths_per_day = argentina_data.groupby('day').sum()['deaths']"
   ]
  },
  {
   "cell_type": "code",
   "execution_count": 11,
   "id": "9bf51b1d",
   "metadata": {},
   "outputs": [
    {
     "data": {
      "text/plain": [
       "<AxesSubplot:xlabel='day'>"
      ]
     },
     "execution_count": 11,
     "metadata": {},
     "output_type": "execute_result"
    },
    {
     "data": {
      "image/png": "[encoded data removed]",
      "text/plain": [
       "<Figure size 432x288 with 1 Axes>"
      ]
     },
     "metadata": {
      "needs_background": "light"
     },
     "output_type": "display_data"
    }
   ],
   "source": [
    "sum_deaths_per_day.plot()"
   ]
  },
  {
   "cell_type": "markdown",
   "id": "71f9c6cd",
   "metadata": {},
   "source": [
    "This plot shows that there were the most deaths by Covid-19 on day 2 of December in Argentina."
   ]
  },
  {
   "cell_type": "markdown",
   "id": "22149234",
   "metadata": {},
   "source": [
    "## 2. "
   ]
  },
  {
   "cell_type": "code",
   "execution_count": 12,
   "id": "16d8aa0e",
   "metadata": {},
   "outputs": [],
   "source": [
    "sum_cases_per_day = argentina_data.groupby('day').sum()['cases']"
   ]
  },
  {
   "cell_type": "code",
   "execution_count": 13,
   "id": "7ccc3454",
   "metadata": {},
   "outputs": [
    {
     "data": {
      "text/plain": [
       "<AxesSubplot:xlabel='day'>"
      ]
     },
     "execution_count": 13,
     "metadata": {},
     "output_type": "execute_result"
    },
    {
     "data": {
      "image/png": "[encoded data removed]",
      "text/plain": [
       "<Figure size 432x288 with 1 Axes>"
      ]
     },
     "metadata": {
      "needs_background": "light"
     },
     "output_type": "display_data"
    }
   ],
   "source": [
    "sum_cases_per_day.plot()"
   ]
  },
  {
   "cell_type": "markdown",
   "id": "acf499c4",
   "metadata": {},
   "source": [
    "This plot shows that were the most Covid-19 cases in Argentina on day 22 in December. "
   ]
  },
  {
   "cell_type": "markdown",
   "id": "451d8a2c",
   "metadata": {},
   "source": [
    "## 3. "
   ]
  },
  {
   "cell_type": "code",
   "execution_count": 15,
   "id": "f81e183f",
   "metadata": {},
   "outputs": [
    {
     "data": {
      "text/plain": [
       "<AxesSubplot:xlabel='cases', ylabel='deaths'>"
      ]
     },
     "execution_count": 15,
     "metadata": {},
     "output_type": "execute_result"
    },
    {
     "data": {
      "image/png": "[encoded data removed]",
      "text/plain": [
       "<Figure size 432x288 with 2 Axes>"
      ]
     },
     "metadata": {
      "needs_background": "light"
     },
     "output_type": "display_data"
    }
   ],
   "source": [
    "argentina_data.plot.scatter(x = 'cases', y = 'deaths', c='day')"
   ]
  },
  {
   "cell_type": "markdown",
   "id": "5edf939e",
   "metadata": {},
   "source": [
    "This graph shows that the relationship between the amount of Covid-19 cases and deaths in Argentina is linear. Which means as the number of covid cases goes up, so does the number of covid deaths. The graph also indicates on which day the cases and the deaths happened based on which color has been assigned. The key on the right explains which color stands for which day."
   ]
  },
  {
   "cell_type": "markdown",
   "id": "69007494",
   "metadata": {},
   "source": [
    "## Explanation of Calculations"
   ]
  },
  {
   "cell_type": "markdown",
   "id": "ac705c44",
   "metadata": {},
   "source": [
    "1. Which day did Argentina have the most deaths in 2020?\n",
    "    - The calculation that was used to determine this peice of data was \n",
    "    sum_deaths_per_day = argentina_data.groupby('day').sum()['deaths']\n",
    "    - This pulled all the data from various days in order to see which day had the highest number of Covid-19 deaths.\n",
    "    - sum_deaths_per_day.plot() allowed me to visually plot the graph to see which day had the highest number of Covid deaths"
   ]
  },
  {
   "cell_type": "markdown",
   "id": "c8ac05d7",
   "metadata": {},
   "source": [
    "2. Which day did Argentina have the most Covid-19 cases in 2020?\n",
    "    - sum_cases_per_day = argentina_data.groupby('day').sum()['cases']\n",
    "    - This code pulled all of the cases that occured over various days in order to see which day had the highest number of Covid-19 cases in Argentina\n",
    "    - sum_cases_per_day.plot() was the code used to plot the data in order to be able to visually see which day had the most Covif-19 deaths in Argentina"
   ]
  },
  {
   "cell_type": "markdown",
   "id": "ba59aad9",
   "metadata": {},
   "source": [
    "3. How does the number of Covid-19 Cases in Argenina correlate with the Number of Deaths in 2020?\n",
    "    - argentina_data.plot.scatter(x = 'cases', y = 'deaths', c='day')\n",
    "    - This code collected all of the cases and the deaths (x and y values) in Argentina from Covid-19 in 2020.\n",
    "    - c='day' also provides a color differentiation, which allows viewers to see which day the deaths and cases occured on\n",
    "   "
   ]
  },
  {
   "cell_type": "markdown",
   "id": "54946916",
   "metadata": {},
   "source": [
    "## Conclusion"
   ]
  },
  {
   "cell_type": "markdown",
   "id": "b702d842",
   "metadata": {},
   "source": [
    "This project indentified and analyzed the number of Covid-19 cases and deaths in Argentina in the year 2020. This project was also able to identify the correlation between the amount of Covid cases and Covid deaths in Argentina. The more Covid cases there are, the more Covid deaths took place in Argentina. This project was limited to 2020 Covid-19 data in addition to only analyzing the days in which cases and deaths took place. For a future project, I would like to look at the amount of Covid-19 cases and deaths that took place in Argentina throughout the months instead of throughout the days. "
   ]
  },
  {
   "cell_type": "code",
   "execution_count": null,
   "id": "3eab2a58",
   "metadata": {},
   "outputs": [],
   "source": []
  },
  {
   "cell_type": "code",
   "execution_count": null,
   "id": "0e10089c",
   "metadata": {},
   "outputs": [],
   "source": []
  }
 ],
 "metadata": {
  "kernelspec": {
   "display_name": "conda_python3",
   "language": "python",
   "name": "conda_python3"
  },
  "language_info": {
   "codemirror_mode": {
    "name": "ipython",
    "version": 3
   },
   "file_extension": ".py",
   "mimetype": "text/x-python",
   "name": "python",
   "nbconvert_exporter": "python",
   "pygments_lexer": "ipython3",
   "version": "3.6.13"
  }
 },
 "nbformat": 4,
 "nbformat_minor": 5
}
